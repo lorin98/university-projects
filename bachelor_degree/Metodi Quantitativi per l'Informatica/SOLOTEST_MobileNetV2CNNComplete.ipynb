{
  "nbformat": 4,
  "nbformat_minor": 0,
  "metadata": {
    "colab": {
      "name": "SOLOTEST MobileNetCNNComplete.ipynb",
      "provenance": [],
      "collapsed_sections": []
    },
    "kernelspec": {
      "display_name": "Python 3",
      "language": "python",
      "name": "python3"
    },
    "language_info": {
      "codemirror_mode": {
        "name": "ipython",
        "version": 3
      },
      "file_extension": ".py",
      "mimetype": "text/x-python",
      "name": "python",
      "nbconvert_exporter": "python",
      "pygments_lexer": "ipython3",
      "version": "3.6.10"
    },
    "accelerator": "GPU"
  },
  "cells": [
    {
      "cell_type": "code",
      "metadata": {
        "colab_type": "code",
        "id": "f-kOEMqSBP5O",
        "colab": {
          "base_uri": "https://localhost:8080/",
          "height": 34
        },
        "outputId": "fef81915-6613-4b48-f5fa-fdef27a57f86"
      },
      "source": [
        "# imports for array-handling and plotting\n",
        "import numpy as np\n",
        "import matplotlib\n",
        "import csv\n",
        "import time\n",
        "matplotlib.use('agg')\n",
        "import matplotlib.pyplot as plt\n",
        "%matplotlib inline\n",
        "\n",
        "# let's keep our keras backend tensorflow quiet\n",
        "import os\n",
        "\n",
        "# keras imports for the dataset and building our neural network\n",
        "import tensorflow as tf\n",
        "from tensorflow.keras import models, layers, datasets, optimizers\n",
        "from tensorflow.keras.callbacks import TensorBoard, EarlyStopping, ModelCheckpoint\n",
        "from tensorflow.keras.models import Sequential, load_model\n",
        "from tensorflow.keras.layers import Dense, Dropout, Activation, Conv2D, MaxPooling2D, Flatten\n",
        "from keras.utils import np_utils\n",
        "from tensorflow.keras import backend as K\n",
        "from tensorflow.keras.preprocessing.image import ImageDataGenerator\n",
        "import cv2"
      ],
      "execution_count": null,
      "outputs": [
        {
          "output_type": "stream",
          "text": [
            "Using TensorFlow backend.\n"
          ],
          "name": "stderr"
        }
      ]
    },
    {
      "cell_type": "code",
      "metadata": {
        "id": "Hs5t7czSdnYf",
        "colab_type": "code",
        "colab": {
          "base_uri": "https://localhost:8080/",
          "height": 122
        },
        "outputId": "7999a60e-d982-4015-9189-4fcd80c3cd7d"
      },
      "source": [
        "from google.colab import drive\n",
        "drive.mount('/content/drive')"
      ],
      "execution_count": null,
      "outputs": [
        {
          "output_type": "stream",
          "text": [
            "Go to this URL in a browser: https://accounts.google.com/o/oauth2/auth?client_id=947318989803-6bn6qk8qdgf4n4g3pfee6491hc0brc4i.apps.googleusercontent.com&redirect_uri=urn%3aietf%3awg%3aoauth%3a2.0%3aoob&response_type=code&scope=email%20https%3a%2f%2fwww.googleapis.com%2fauth%2fdocs.test%20https%3a%2f%2fwww.googleapis.com%2fauth%2fdrive%20https%3a%2f%2fwww.googleapis.com%2fauth%2fdrive.photos.readonly%20https%3a%2f%2fwww.googleapis.com%2fauth%2fpeopleapi.readonly\n",
            "\n",
            "Enter your authorization code:\n",
            "··········\n",
            "Mounted at /content/drive\n"
          ],
          "name": "stdout"
        }
      ]
    },
    {
      "cell_type": "code",
      "metadata": {
        "id": "lqbcQUAXcpl2",
        "colab_type": "code",
        "colab": {}
      },
      "source": [
        "#IMPORTANTE: PER COME SONO IMPORTATE LE CARTELLE PUÒ ANCHE ESSERE TOLTO \n",
        "\n",
        "#Impone ordinamento cartelle se hanno nomi di lunghezza diversa\n",
        "def classificator (directory):\n",
        "    childDirectories = next(os.walk(directory))[1]\n",
        "    for x in range(len(childDirectories)):\n",
        "        childDirectories[x]=int(childDirectories[x])\n",
        "    childDirectories.sort()\n",
        "    for x in range(len(childDirectories)):\n",
        "        childDirectories[x]=str(childDirectories[x])\n",
        "    return childDirectories"
      ],
      "execution_count": null,
      "outputs": []
    },
    {
      "cell_type": "code",
      "metadata": {
        "id": "4-4P4UkblHUL",
        "colab_type": "code",
        "colab": {
          "base_uri": "https://localhost:8080/",
          "height": 34
        },
        "outputId": "65d1ec64-3430-40f6-bf9f-5b27c478e73a"
      },
      "source": [
        "device_name = tf.test.gpu_device_name()\n",
        "if device_name != '/device:GPU:0':\n",
        "  raise SystemError('GPU device not found')\n",
        "print('Found GPU at: {}'.format(device_name))"
      ],
      "execution_count": null,
      "outputs": [
        {
          "output_type": "stream",
          "text": [
            "Found GPU at: /device:GPU:0\n"
          ],
          "name": "stdout"
        }
      ]
    },
    {
      "cell_type": "code",
      "metadata": {
        "id": "EMwRqZykcpl5",
        "colab_type": "code",
        "colab": {}
      },
      "source": [
        "#PREAMBOLO:\n",
        "# 1. versione del dataset\n",
        "# 2. imposto la dimensione della resize del modello\n",
        "# 3. augmentation sul dataset di train e/o di test\n",
        "# 4. early stopping o meno\n",
        "# 5. addestramento del base_model\n",
        "# 6. livello del base_learning_rate\n",
        "\n",
        "# IMPOSTO MACROPARAMETRI E VARIABILI GLOBALI\n",
        "epoche = 15\n",
        "img_width, img_height = 32, 32\n",
        "batch_size = 100\n",
        "split_per_validazione = 0.15\n",
        "\n",
        "# 1. versione del dataset\n",
        "# settare 'sceltaDataset' come \"10RandomClasses\", \"10PoorestClasses\" o \"43Classes\"\n",
        "sceltaDataset = \"10RandomClasses\"\n",
        "\n",
        "# 2. imposto la dimensione della resize del modello\n",
        "#Inserisci le dimensioni per la resize con interpolazione. Scegli tra i valori prefissati: '96, 96', '128, 128', '160, 160', '192, 192', 224, 224'\n",
        "img_width_resized, img_height_resized = 96, 96\n",
        "\n",
        "# 3. augmentation sul dataset di train e/o di test\n",
        "# Se desideri l'augmentation del train o nel test imposta trainAg e/o testAg come 'SI'\n",
        "trainAg = 'NO'\n",
        "testAg = 'NO'\n",
        "\n",
        "# 4. early stopping o meno\n",
        "# Se desideri earlyStopping imposta la variabile a 'SI'\n",
        "earlyStopping = 'SI'\n",
        "\n",
        "#5. addestramento del base_model\n",
        "#Se desideri che si addestri durante il train, imposta la variabile a 'True' (come boolean)\n",
        "addestramentoBaseModel = True\n",
        "\n",
        "#6. livello del base_learning_rate\n",
        "base_learning_rate = 0.0001"
      ],
      "execution_count": null,
      "outputs": []
    },
    {
      "cell_type": "code",
      "metadata": {
        "id": "cXiSe_jJANWV",
        "colab_type": "code",
        "colab": {
          "base_uri": "https://localhost:8080/",
          "height": 68
        },
        "outputId": "7bd01ce9-c0fe-4abb-c477-0da57c833d2d"
      },
      "source": [
        "#CONTROLLI VARI\n",
        "\n",
        "#CONTROLLO E SETTAGGIO DEL DATASET:\n",
        "pathDrive = '/content/drive/My Drive/Colab Notebooks/'\n",
        "if sceltaDataset == \"10RandomClasses\":\n",
        "    numeroClassi = 10\n",
        "    nomeZipDataset = 'TrafficSignClassification-10RandomClasses'\n",
        "    nb_train_samples = 33000\n",
        "    nb_test_samples = 3300\n",
        "elif sceltaDataset == \"10PoorestClasses\":\n",
        "    numeroClassi = 10\n",
        "    nomeZipDataset = 'TrafficSignClassification-10PoorestClasses'\n",
        "    nb_train_samples = 4400\n",
        "    nb_test_samples = 720\n",
        "elif sceltaDataset == \"43Classes\":\n",
        "    numeroClassi = 43\n",
        "    nomeZipDataset = 'TrafficSignClassification-43Classes'\n",
        "    nb_train_samples = 65000\n",
        "    nb_test_samples = 9000\n",
        "else:\n",
        "    raise SystemExit(\"Dataset non riconosciuto\")\n",
        "origine = pathDrive+nomeZipDataset\n",
        "\n",
        "#CONTROLLO DIMENSIONE RESIZE\n",
        "if (img_width_resized!=img_height_resized):\n",
        "    raise SystemExit(\"La dimensione della resize deve essere quadrata. Controlla che img_width_resized e img_height_resized siano uguali\")\n",
        "elif (img_height_resized!=96 and img_height_resized!=128 and img_height_resized!=160 and img_height_resized!=192 and img_height_resized!=224):\n",
        "    raise SystemExit(\"Dimensioni della resize non accettate\")\n",
        "\n",
        "\n",
        "#CREAZIONE PATH DI SALVATAGGIO COMUNE\n",
        "creoNomeAddestramento='MobileNetCNN-'+sceltaDataset+'-'+str(epoche)+'Epoche-EarlyStopping'+earlyStopping+'-TrainAg'+trainAg+'-TestAg'+testAg+\"-baseLearningRate\"+str(base_learning_rate)\n",
        "#Verifico se desidero l'addestramento del modello, prevengo possibili errori e aggiungo elemnto al pathName\n",
        "if (addestramentoBaseModel==True):\n",
        "    creoNomeAddestramento+=\"-AddestramentoBaseModelSI\"\n",
        "else:\n",
        "    addestramentoBaseModel=False\n",
        "    print(\"Addestramento base_model settato a false\")\n",
        "    creoNomeAddestramento+=\"-AddestramentoBaseModelNO\"\n",
        "pathSalvaModello=creoNomeAddestramento+'.h5'\n",
        "pathStampaModello=pathDrive+'models/modelloDi'+sceltaDataset+'.png'\n",
        "pathConfMatrix=pathDrive+'models/CONFUSION_MATRIX---'+creoNomeAddestramento+'.png'\n",
        "\n",
        "#IMPOSTO L'AUGMENTANTION:\n",
        "#Default:\n",
        "train_shear_range, test_shear_range = 0.0, 0.0\n",
        "train_zoom_range, test_zoom_range = 0.0, 0.0\n",
        "train_width_shift_range, test_width_shift_range = 0.0, 0.0\n",
        "train_height_shift_range, test_height_shift_range = 0.0, 0.0\n",
        "train_fill_mode, test_fill_mode = \"constant\", \"constant\" #riempe i contorni in caso di modifica, messo costant così è nero\n",
        "#Attivazione augmentation se richiesta\n",
        "if trainAg == 'SI':\n",
        "    train_shear_range=0.15 #Distorsione angolare. Ne distorce un po' la forma, quindi la tengo\n",
        "    train_zoom_range=0.15 #Zoom da applicare alla foto. Ne distorce un po' la forma, quindi la tengo\n",
        "    train_width_shift_range=0.15 #spostamento orizzontale della foto per analizzarla anche da tagliata\n",
        "    train_height_shift_range=0.15 #spostamento verticale della foto per analizzarla anche da tagliata\n",
        "if testAg == 'SI':\n",
        "    test_shear_range=0.1\n",
        "    test_zoom_range=0.1\n",
        "    test_width_shift_range=0.1\n",
        "    test_height_shift_range=0.1\n",
        "\n",
        "\n",
        "#IMPOSTO EARLYSTOPPING:\n",
        "if earlyStopping == 'SI':\n",
        "    #Implemento l'EarlyStopping\n",
        "    tf.keras.callbacks.EarlyStopping(\n",
        "        monitor='val_loss', min_delta=0, patience=0, verbose=0, mode='auto',\n",
        "        baseline=None, restore_best_weights=False)\n",
        "    checkpoint_filepath = '/tmp/checkpoint'\n",
        "    epocheSalvataggio=5\n",
        "    model_checkpoint_callback = tf.keras.callbacks.ModelCheckpoint(\n",
        "            filepath=checkpoint_filepath, save_weights_only=True,\n",
        "            monitor='val_loss', save_freq=epocheSalvataggio,\n",
        "            save_best_only=True)\n",
        "    callback = [ TensorBoard(update_freq=521),\n",
        "                    EarlyStopping(monitor='val_accuracy', patience=2),\n",
        "                    ModelCheckpoint(pathDrive+\"results/\"+pathSalvaModello, save_best_only=True), ]\n",
        "else:\n",
        "    callback = None\n",
        "\n",
        "print(\"Nome Addestramento:\")\n",
        "print(creoNomeAddestramento)"
      ],
      "execution_count": null,
      "outputs": [
        {
          "output_type": "stream",
          "text": [
            "Addestramento base_model settato a false\n",
            "Nome Addestramento:\n",
            "MobileNetCNN-10PoorestClasses-30Epoche-EarlyStoppingSI-TrainAgNO-TestAgNO-baseLearningRate0.0001-AddestramentoBaseModelNO\n"
          ],
          "name": "stdout"
        }
      ]
    },
    {
      "cell_type": "code",
      "metadata": {
        "id": "lc5Bx9Jact3D",
        "colab_type": "code",
        "colab": {}
      },
      "source": [
        "#Importo e imposto dataset in COLAB\n",
        "import zipfile\n",
        "\n",
        "local_zip = origine+'.zip'\n",
        "zip_ref = zipfile.ZipFile(local_zip, 'r')\n",
        "zip_ref.extractall('/content/')\n",
        "zip_ref.close()\n",
        "  \n",
        "base_dir = '/content/'+nomeZipDataset\n",
        "\n",
        "# Directory del train\n",
        "train_data_dir = base_dir+'/train'\n",
        "# Directory del test\n",
        "test_data_dir = base_dir+'/test'\n",
        "# File con i nomi delle labels\n",
        "label_info_dir = base_dir+'/labels.csv'\n"
      ],
      "execution_count": null,
      "outputs": []
    },
    {
      "cell_type": "code",
      "metadata": {
        "colab_type": "code",
        "id": "dCYbECUe9F7x",
        "colab": {}
      },
      "source": [
        "def make_train_generator():\n",
        "    # Configurazione di augmentation per il training\n",
        "    train_datagen = ImageDataGenerator(\n",
        "        rescale=1. / 255,\n",
        "        validation_split=split_per_validazione, #Quanto deve splittare il train per creare la validation\n",
        "        shear_range=train_shear_range,\n",
        "        zoom_range=train_zoom_range,\n",
        "        width_shift_range=train_width_shift_range,\n",
        "        height_shift_range=train_height_shift_range,\n",
        "        fill_mode=train_fill_mode,\n",
        "        horizontal_flip=False,\n",
        "        vertical_flip=False\n",
        "        #rotation_range=20, #Rotazione massima, espressa in intero. Disattiva perché i cartelli non si trovano ruotati\n",
        "        )\n",
        "    train_generator = train_datagen.flow_from_directory(\n",
        "        train_data_dir,\n",
        "        target_size=(img_width, img_height),\n",
        "        color_mode=\"rgb\",\n",
        "        batch_size=int(nb_train_samples*(1-split_per_validazione)),\n",
        "        class_mode='categorical',\n",
        "        subset='training')\n",
        "    return train_generator\n",
        "\n",
        "def make_validation_generator():\n",
        "    # Configurazione di augmentation per il training\n",
        "    train_datagen = ImageDataGenerator(\n",
        "        rescale=1. / 255,\n",
        "        validation_split=split_per_validazione, #Quanto deve splittare il train per creare la validation\n",
        "        shear_range=train_shear_range,\n",
        "        zoom_range=train_zoom_range,\n",
        "        width_shift_range=train_width_shift_range,\n",
        "        height_shift_range=train_height_shift_range,\n",
        "        fill_mode=train_fill_mode,\n",
        "        horizontal_flip=False,\n",
        "        vertical_flip=False\n",
        "        #rotation_range=20, #Rotazione massima, espressa in intero. Disattiva perché i cartelli non si trovano ruotati\n",
        "        )\n",
        "    validation_generator = train_datagen.flow_from_directory(\n",
        "        train_data_dir,\n",
        "        target_size=(img_width, img_height),\n",
        "        color_mode=\"rgb\",\n",
        "        batch_size=int(nb_train_samples*split_per_validazione),\n",
        "        class_mode='categorical',\n",
        "        subset='validation')\n",
        "    return validation_generator\n",
        "\n",
        "def make_test_generator():\n",
        "    # Configurazione di augmentation per il test (solo rescaling nel caso non si voglia augmentation)\n",
        "    test_datagen = ImageDataGenerator(\n",
        "        rescale=1. / 255,\n",
        "        shear_range=test_shear_range,\n",
        "        zoom_range=test_zoom_range,\n",
        "        width_shift_range=test_width_shift_range,\n",
        "        height_shift_range=test_height_shift_range,\n",
        "        fill_mode=test_fill_mode,\n",
        "        horizontal_flip=False,\n",
        "        vertical_flip=False\n",
        "        #rotation_range=20, #Rotazione massima, espressa in intero. Disattiva perché i cartelli non si trovano ruotati\n",
        "        )\n",
        "    test_generator = test_datagen.flow_from_directory(\n",
        "        test_data_dir,\n",
        "        target_size=(img_width, img_height),\n",
        "        color_mode=\"rgb\",\n",
        "        batch_size=nb_test_samples,\n",
        "        class_mode=\"categorical\")\n",
        "    return test_generator\n",
        "\n",
        "#IMPORTANTE: PER MAGGIOR INFO SULL'AUGMENTATION DELLA IMAGEDATAGENERATOR, E' RIPORTATO IL LINK:\n",
        "#https://fairyonice.github.io/Learn-about-ImageDataGenerator.html"
      ],
      "execution_count": null,
      "outputs": []
    },
    {
      "cell_type": "code",
      "metadata": {
        "id": "1SmFtjHVcpl_",
        "colab_type": "code",
        "colab": {}
      },
      "source": [
        "#Importo i nomi delle classi\n",
        "with open(label_info_dir, newline='') as f:\n",
        "    reader = csv.reader(f)\n",
        "    data = list(reader)\n",
        "#elementi le prime entry che non sono dati utili\n",
        "data.pop(0)\n",
        "data.pop(0)\n",
        "listaNomiClassi = [];\n",
        "for i in range(len(data)):\n",
        "    #Divido la riga per poi prendere l'elemento che mi serve\n",
        "    rigaInEsame = data[i][0].split(\";\")\n",
        "    listaNomiClassi+=[rigaInEsame[1]]"
      ],
      "execution_count": null,
      "outputs": []
    },
    {
      "cell_type": "code",
      "metadata": {
        "colab_type": "code",
        "id": "APaDFHqv9yEF",
        "colab": {}
      },
      "source": [
        "#import del dataset usando tf.data.Dataset\n",
        "train_dataset = tf.data.Dataset.from_generator(make_train_generator, (tf.float32, tf.float32))\n",
        "validation_dataset = tf.data.Dataset.from_generator(make_validation_generator, (tf.float32, tf.float32))\n",
        "test_dataset = tf.data.Dataset.from_generator(make_test_generator, (tf.float32, tf.float32))"
      ],
      "execution_count": null,
      "outputs": []
    },
    {
      "cell_type": "code",
      "metadata": {
        "id": "IzAS2ankcpmF",
        "colab_type": "code",
        "colab": {
          "base_uri": "https://localhost:8080/",
          "height": 68
        },
        "outputId": "a304feeb-2000-476e-e006-671f9835f963"
      },
      "source": [
        "#ricavare immagini e label dai dataset creati con i generator\n",
        "for images, labels in train_dataset.take(1):\n",
        "    X_train = images.numpy()\n",
        "    Y_train = labels.numpy()\n",
        "    \n",
        "for images, labels in validation_dataset.take(1):\n",
        "    X_valid = images.numpy()\n",
        "    Y_valid = labels.numpy()\n",
        "    \n",
        "for images, labels in test_dataset.take(1):\n",
        "    X_test = images.numpy()\n",
        "    Y_test = labels.numpy()"
      ],
      "execution_count": null,
      "outputs": [
        {
          "output_type": "stream",
          "text": [
            "Found 3640 images belonging to 10 classes.\n",
            "Found 635 images belonging to 10 classes.\n",
            "Found 706 images belonging to 10 classes.\n"
          ],
          "name": "stdout"
        }
      ]
    },
    {
      "cell_type": "code",
      "metadata": {
        "id": "PNZNCp20cpmK",
        "colab_type": "code",
        "colab": {
          "base_uri": "https://localhost:8080/",
          "height": 794
        },
        "outputId": "716a5577-1047-40c3-f38b-8f35abf1333a"
      },
      "source": [
        "#HISTOGRAM REPRESENTATION\n",
        "#preliminari: conversione da one-hot-encoding a interi per visionare il numero di sample per dataset\n",
        "y_train = np.empty(len(Y_train),dtype=int)\n",
        "y_valid = np.empty(len(Y_valid),dtype=int)\n",
        "y_test = np.empty(len(Y_test),dtype=int)\n",
        "for j in range(len(Y_train)):\n",
        "    #print(j, \"/\", len(Y_test), end='\\r')\n",
        "    y_train[j]=(np.where(Y_train[j]==1)[0][0])\n",
        "\n",
        "for j in range(len(Y_valid)):\n",
        "    #print(j, \"/\", len(Y_test), end='\\r')\n",
        "    y_valid[j]=(np.where(Y_valid[j]==1)[0][0])\n",
        "    \n",
        "for j in range(len(Y_test)):\n",
        "    #print(j, \"/\", len(Y_test), end='\\r')\n",
        "    y_test[j]=(np.where(Y_test[j]==1)[0][0])\n",
        "\n",
        "#Quest'ultima cosa serve per la stampa finale\n",
        "immaginiPerLaStampaFinale=X_test    \n",
        "\n",
        "#genero Valori Asse X\n",
        "valAsseX = []\n",
        "for i in range(numeroClassi):\n",
        "    valAsseX+=[i]\n",
        "\n",
        "#creo allineamento per i risultati dell'asse x\n",
        "def bins_labels(bins, **kwargs):\n",
        "    bin_w = (max(bins) - min(bins)) / (len(bins) - 1)\n",
        "    plt.xticks(np.arange(min(bins)+bin_w/2, max(bins), bin_w), bins, **kwargs)\n",
        "    plt.xlim(bins[0], bins[-1])\n",
        "    \n",
        "plt.figure(num=None, figsize=(20, 15))\n",
        "bins = range(numeroClassi+1)\n",
        "plt.hist([y_train, y_valid, y_test], bins=bins, color=['blue', 'orange', 'green'], alpha=0.7)\n",
        "bins_labels(bins, fontsize=16)\n",
        "plt.xlabel(\"number of classes\", fontsize=18)\n",
        "plt.ylabel(\"number of elements for each class\", fontsize=18)\n",
        "plt.xticks(valAsseX)\n",
        "plt.title('Full dataset histogram', fontsize=24)\n",
        "plt.grid(axis='y', alpha=0.7)\n",
        "#plt.savefig('models/hist'+sceltaDataset+'.png')\n",
        "plt.show()"
      ],
      "execution_count": null,
      "outputs": [
        {
          "output_type": "display_data",
          "data": {
            "image/png": "[encoded data removed]",
            "text/plain": [
              "<Figure size 1440x1080 with 1 Axes>"
            ]
          },
          "metadata": {
            "tags": [],
            "needs_background": "light"
          }
        }
      ]
    },
    {
      "cell_type": "code",
      "metadata": {
        "id": "79H-2YeWcpmM",
        "colab_type": "code",
        "colab": {
          "base_uri": "https://localhost:8080/",
          "height": 369
        },
        "outputId": "2962b034-1dee-4f02-fba1-ef4ad426856a"
      },
      "source": [
        "#IMPORTANTE: LA STAMPA ORIGINALE NON VA BENE PERCHÉ NON ENTRANO I NOMI DELLE CLASSI, QUINDI NE HO SCRITTE DUE NUOVE.\n",
        "#            UNA STAMPA UNA CLASSE A RIGA CON IL CORRISPETTIVO NOME, MENTRE L'ALTRA STAMPA I NOMI DELLE CLASSI\n",
        "#            PRESENTI NELLA STAMPE E POI DOPO LE CLASSI CON IL RELATIVO NUMERO\n",
        "#  \n",
        "\n",
        "#Stampa prima delle classi presenti, con la corrispondente digits, e poi le immagini con la corrispondente digits\n",
        "listaClassiCheVerrannoStampate = []\n",
        "for i in range(9):\n",
        "    #Creo la lista di classi e valori che verranno stampate\n",
        "    valoreDigits=np.where(Y_train[i]==1)[0][0]\n",
        "    nomeDigits=listaNomiClassi[valoreDigits]\n",
        "    if [valoreDigits, nomeDigits] not in listaClassiCheVerrannoStampate :\n",
        "        listaClassiCheVerrannoStampate+=[[valoreDigits, nomeDigits]]\n",
        "\n",
        "    #Stampa classica delle digits\n",
        "    plt.subplot(3,3,i+1)\n",
        "    plt.tight_layout()\n",
        "    plt.imshow(X_train[i], interpolation='none')\n",
        "    plt.title(\"Digit: {}\".format(valoreDigits))\n",
        "    plt.xticks([])\n",
        "    plt.yticks([])\n",
        "\n",
        "#Prima stampo le classi presenti, con la corrispondente digits in ordine di digits\n",
        "for i in range(numeroClassi):\n",
        "    for j in range(len(listaClassiCheVerrannoStampate)):\n",
        "        if listaClassiCheVerrannoStampate[j][0]==i:\n",
        "            print(\"Digit: '{}' corrisponde a '{}'\".format(listaClassiCheVerrannoStampate[j][0], \n",
        "                                                          listaClassiCheVerrannoStampate[j][1]))\n",
        "#Stampo i cartelli\n",
        "plt.show()"
      ],
      "execution_count": null,
      "outputs": [
        {
          "output_type": "stream",
          "text": [
            "Digit: '0' corrisponde a 'Speed limit (20km/h)'\n",
            "Digit: '4' corrisponde a 'Bicycles crossing'\n",
            "Digit: '7' corrisponde a 'Roundabout mandatory'\n",
            "Digit: '8' corrisponde a 'End of no passing'\n",
            "Digit: '9' corrisponde a 'End of no passing by vehicles over 3.5 metric tons'\n"
          ],
          "name": "stdout"
        },
        {
          "output_type": "display_data",
          "data": {
            "image/png": "[encoded data removed]",
            "text/plain": [
              "<Figure size 432x288 with 9 Axes>"
            ]
          },
          "metadata": {
            "tags": []
          }
        }
      ]
    },
    {
      "cell_type": "code",
      "metadata": {
        "id": "f1lHTNDfcpmP",
        "colab_type": "code",
        "colab": {
          "base_uri": "https://localhost:8080/",
          "height": 255
        },
        "outputId": "3c377c77-7f47-4722-8ff6-3e10f218b5bb"
      },
      "source": [
        "#MobileNetV2 ha delle dimensione prestabilite per quanto riguarda le immagini in input, quindi è necessaria una resize con interpolazione\n",
        "\n",
        "print('dimensione train set precedente:',X_train.shape)\n",
        "print('dimensione validation set precedente:',X_valid.shape)\n",
        "print('dimensione test set precedente:',X_test.shape)\n",
        "\n",
        "X_train_resized = []\n",
        "X_valid_resized = []\n",
        "X_test_resized = []\n",
        "\n",
        "#Se il dataset e la dimensione della resize lo permettono, uso la reshape con interpolazione veloce, altrimenti quella lenta\n",
        "if(sceltaDataset==\"10PoorestClasses\" or (sceltaDataset==\"10RandomClasses\" and img_height_resized<129)):\n",
        "    print(\"\\nImpostata la resize veloce, ma pesante computazionalmente.\")\n",
        "    def resize_dataset(dataset):\n",
        "        dataset_resized = []\n",
        "        for i in range(len(dataset)):\n",
        "            dataset_resized.append(cv2.resize(dataset[i], dsize=(img_width_resized, img_height_resized), interpolation=cv2.INTER_CUBIC))\n",
        "        dataset_resized = np.array(dataset_resized)\n",
        "        return dataset_resized\n",
        "else:\n",
        "    print(\"\\nImpostata la resize lenta, ma leggera computazionalmente.\")\n",
        "    def resize_dataset(dataset):\n",
        "        dataset_resized = np.array(cv2.resize(dataset[0], dsize=(img_width_resized, img_height_resized), interpolation=cv2.INTER_CUBIC))\n",
        "        dataset_resized = np.expand_dims(dataset_resized, axis=0)\n",
        "        for i in range(1, len(dataset)):\n",
        "            aux=np.array(cv2.resize(dataset[i], dsize=(img_width_resized, img_height_resized), interpolation=cv2.INTER_CUBIC))\n",
        "                        #print(i)\n",
        "                        #print(np.expand_dims(aux, axis=0).shape)\n",
        "                        #print(dataset_resized.shape)\n",
        "                        #print(dataset_resized.shape)\n",
        "              #PROVO A DIMINUIRE IL NUMERO DI VARIABILI NELLA SPERANZA CHE SI VELOCIZZI L'ESECUZIONE\n",
        "              #a = np.zeros(np.expand_dims(aux, axis=0).shape)\n",
        "              #b = np.zeros(dataset_resized.shape)\n",
        "            dataset_resized = np.concatenate((np.zeros(np.expand_dims(aux, axis=0).shape), np.zeros(dataset_resized.shape)))\n",
        "        return dataset_resized\n",
        "\n",
        "print(\"\\nInizio la reshape con interpolazione del train.\")\n",
        "X_train_resized = resize_dataset(X_train)\n",
        "print(\"Finito con il train, inizio la reshape con interpolazione della validation.\")\n",
        "X_valid_resized = resize_dataset(X_valid)\n",
        "print(\"Finito con la validation, inizio la reshape con interpolazione del test.\")\n",
        "X_test_resized = resize_dataset(X_test)\n",
        "print(\"Finito con il test.\\n\")\n",
        "\n",
        "print('dimensione train set ridimensionato:',X_train_resized.shape)\n",
        "print('dimensione valid set ridimensionato:',X_valid_resized.shape)\n",
        "print('dimensione test set ridimensionato:',X_test_resized.shape)"
      ],
      "execution_count": null,
      "outputs": [
        {
          "output_type": "stream",
          "text": [
            "dimensione train set precedente: (3640, 32, 32, 3)\n",
            "dimensione validation set precedente: (635, 32, 32, 3)\n",
            "dimensione test set precedente: (706, 32, 32, 3)\n",
            "\n",
            "Impostata la resize veloce, ma pesante computazionalmente.\n",
            "\n",
            "Inizio la reshape con interpolazione del train.\n",
            "Finito con il train, inizio la reshape con interpolazione della validation.\n",
            "Finito con la validation, inizio la reshape con interpolazione del test.\n",
            "Finito con il test.\n",
            "\n",
            "dimensione train set ridimensionato: (3640, 96, 96, 3)\n",
            "dimensione valid set ridimensionato: (635, 96, 96, 3)\n",
            "dimensione test set ridimensionato: (706, 96, 96, 3)\n"
          ],
          "name": "stdout"
        }
      ]
    },
    {
      "cell_type": "code",
      "metadata": {
        "colab_type": "code",
        "id": "QHr2hSNpBuDq",
        "colab": {
          "base_uri": "https://localhost:8080/",
          "height": 71
        },
        "outputId": "8cacc494-2f5b-4716-e9db-8a9e9ba7ff7c"
      },
      "source": [
        "IMG_SHAPE = (img_width_resized, img_height_resized, 3)\n",
        "\n",
        "#creo un modello di base a partire dalla rete pre-trained MobileNetV2\n",
        "base_model = tf.keras.applications.MobileNetV2(input_shape=IMG_SHAPE,\n",
        "                                               include_top=False,\n",
        "                                               weights=\"imagenet\")"
      ],
      "execution_count": null,
      "outputs": [
        {
          "output_type": "stream",
          "text": [
            "Downloading data from https://storage.googleapis.com/tensorflow/keras-applications/mobilenet_v2/mobilenet_v2_weights_tf_dim_ordering_tf_kernels_1.0_96_no_top.h5\n",
            "9412608/9406464 [==============================] - 0s 0us/step\n"
          ],
          "name": "stdout"
        }
      ]
    },
    {
      "cell_type": "code",
      "metadata": {
        "id": "1KqUoxzccpmT",
        "colab_type": "code",
        "colab": {
          "base_uri": "https://localhost:8080/",
          "height": 1000
        },
        "outputId": "16aef63d-5e1d-4e94-e32c-73c60a5e7923"
      },
      "source": [
        "base_model.trainable = addestramentoBaseModel\n",
        "\n",
        "#architettura del modello base\n",
        "base_model.summary()"
      ],
      "execution_count": null,
      "outputs": [
        {
          "output_type": "stream",
          "text": [
            "Model: \"mobilenetv2_1.00_96\"\n",
            "__________________________________________________________________________________________________\n",
            "Layer (type)                    Output Shape         Param #     Connected to                     \n",
            "==================================================================================================\n",
            "input_1 (InputLayer)            [(None, 96, 96, 3)]  0                                            \n",
            "__________________________________________________________________________________________________\n",
            "Conv1_pad (ZeroPadding2D)       (None, 97, 97, 3)    0           input_1[0][0]                    \n",
            "__________________________________________________________________________________________________\n",
            "Conv1 (Conv2D)                  (None, 48, 48, 32)   864         Conv1_pad[0][0]                  \n",
            "__________________________________________________________________________________________________\n",
            "bn_Conv1 (BatchNormalization)   (None, 48, 48, 32)   128         Conv1[0][0]                      \n",
            "__________________________________________________________________________________________________\n",
            "Conv1_relu (ReLU)               (None, 48, 48, 32)   0           bn_Conv1[0][0]                   \n",
            "__________________________________________________________________________________________________\n",
            "expanded_conv_depthwise (Depthw (None, 48, 48, 32)   288         Conv1_relu[0][0]                 \n",
            "__________________________________________________________________________________________________\n",
            "expanded_conv_depthwise_BN (Bat (None, 48, 48, 32)   128         expanded_conv_depthwise[0][0]    \n",
            "__________________________________________________________________________________________________\n",
            "expanded_conv_depthwise_relu (R (None, 48, 48, 32)   0           expanded_conv_depthwise_BN[0][0] \n",
            "__________________________________________________________________________________________________\n",
            "expanded_conv_project (Conv2D)  (None, 48, 48, 16)   512         expanded_conv_depthwise_relu[0][0\n",
            "__________________________________________________________________________________________________\n",
            "expanded_conv_project_BN (Batch (None, 48, 48, 16)   64          expanded_conv_project[0][0]      \n",
            "__________________________________________________________________________________________________\n",
            "block_1_expand (Conv2D)         (None, 48, 48, 96)   1536        expanded_conv_project_BN[0][0]   \n",
            "__________________________________________________________________________________________________\n",
            "block_1_expand_BN (BatchNormali (None, 48, 48, 96)   384         block_1_expand[0][0]             \n",
            "__________________________________________________________________________________________________\n",
            "block_1_expand_relu (ReLU)      (None, 48, 48, 96)   0           block_1_expand_BN[0][0]          \n",
            "__________________________________________________________________________________________________\n",
            "block_1_pad (ZeroPadding2D)     (None, 49, 49, 96)   0           block_1_expand_relu[0][0]        \n",
            "__________________________________________________________________________________________________\n",
            "block_1_depthwise (DepthwiseCon (None, 24, 24, 96)   864         block_1_pad[0][0]                \n",
            "__________________________________________________________________________________________________\n",
            "block_1_depthwise_BN (BatchNorm (None, 24, 24, 96)   384         block_1_depthwise[0][0]          \n",
            "__________________________________________________________________________________________________\n",
            "block_1_depthwise_relu (ReLU)   (None, 24, 24, 96)   0           block_1_depthwise_BN[0][0]       \n",
            "__________________________________________________________________________________________________\n",
            "block_1_project (Conv2D)        (None, 24, 24, 24)   2304        block_1_depthwise_relu[0][0]     \n",
            "__________________________________________________________________________________________________\n",
            "block_1_project_BN (BatchNormal (None, 24, 24, 24)   96          block_1_project[0][0]            \n",
            "__________________________________________________________________________________________________\n",
            "block_2_expand (Conv2D)         (None, 24, 24, 144)  3456        block_1_project_BN[0][0]         \n",
            "__________________________________________________________________________________________________\n",
            "block_2_expand_BN (BatchNormali (None, 24, 24, 144)  576         block_2_expand[0][0]             \n",
            "__________________________________________________________________________________________________\n",
            "block_2_expand_relu (ReLU)      (None, 24, 24, 144)  0           block_2_expand_BN[0][0]          \n",
            "__________________________________________________________________________________________________\n",
            "block_2_depthwise (DepthwiseCon (None, 24, 24, 144)  1296        block_2_expand_relu[0][0]        \n",
            "__________________________________________________________________________________________________\n",
            "block_2_depthwise_BN (BatchNorm (None, 24, 24, 144)  576         block_2_depthwise[0][0]          \n",
            "__________________________________________________________________________________________________\n",
            "block_2_depthwise_relu (ReLU)   (None, 24, 24, 144)  0           block_2_depthwise_BN[0][0]       \n",
            "__________________________________________________________________________________________________\n",
            "block_2_project (Conv2D)        (None, 24, 24, 24)   3456        block_2_depthwise_relu[0][0]     \n",
            "__________________________________________________________________________________________________\n",
            "block_2_project_BN (BatchNormal (None, 24, 24, 24)   96          block_2_project[0][0]            \n",
            "__________________________________________________________________________________________________\n",
            "block_2_add (Add)               (None, 24, 24, 24)   0           block_1_project_BN[0][0]         \n",
            "                                                                 block_2_project_BN[0][0]         \n",
            "__________________________________________________________________________________________________\n",
            "block_3_expand (Conv2D)         (None, 24, 24, 144)  3456        block_2_add[0][0]                \n",
            "__________________________________________________________________________________________________\n",
            "block_3_expand_BN (BatchNormali (None, 24, 24, 144)  576         block_3_expand[0][0]             \n",
            "__________________________________________________________________________________________________\n",
            "block_3_expand_relu (ReLU)      (None, 24, 24, 144)  0           block_3_expand_BN[0][0]          \n",
            "__________________________________________________________________________________________________\n",
            "block_3_pad (ZeroPadding2D)     (None, 25, 25, 144)  0           block_3_expand_relu[0][0]        \n",
            "__________________________________________________________________________________________________\n",
            "block_3_depthwise (DepthwiseCon (None, 12, 12, 144)  1296        block_3_pad[0][0]                \n",
            "__________________________________________________________________________________________________\n",
            "block_3_depthwise_BN (BatchNorm (None, 12, 12, 144)  576         block_3_depthwise[0][0]          \n",
            "__________________________________________________________________________________________________\n",
            "block_3_depthwise_relu (ReLU)   (None, 12, 12, 144)  0           block_3_depthwise_BN[0][0]       \n",
            "__________________________________________________________________________________________________\n",
            "block_3_project (Conv2D)        (None, 12, 12, 32)   4608        block_3_depthwise_relu[0][0]     \n",
            "__________________________________________________________________________________________________\n",
            "block_3_project_BN (BatchNormal (None, 12, 12, 32)   128         block_3_project[0][0]            \n",
            "__________________________________________________________________________________________________\n",
            "block_4_expand (Conv2D)         (None, 12, 12, 192)  6144        block_3_project_BN[0][0]         \n",
            "__________________________________________________________________________________________________\n",
            "block_4_expand_BN (BatchNormali (None, 12, 12, 192)  768         block_4_expand[0][0]             \n",
            "__________________________________________________________________________________________________\n",
            "block_4_expand_relu (ReLU)      (None, 12, 12, 192)  0           block_4_expand_BN[0][0]          \n",
            "__________________________________________________________________________________________________\n",
            "block_4_depthwise (DepthwiseCon (None, 12, 12, 192)  1728        block_4_expand_relu[0][0]        \n",
            "__________________________________________________________________________________________________\n",
            "block_4_depthwise_BN (BatchNorm (None, 12, 12, 192)  768         block_4_depthwise[0][0]          \n",
            "__________________________________________________________________________________________________\n",
            "block_4_depthwise_relu (ReLU)   (None, 12, 12, 192)  0           block_4_depthwise_BN[0][0]       \n",
            "__________________________________________________________________________________________________\n",
            "block_4_project (Conv2D)        (None, 12, 12, 32)   6144        block_4_depthwise_relu[0][0]     \n",
            "__________________________________________________________________________________________________\n",
            "block_4_project_BN (BatchNormal (None, 12, 12, 32)   128         block_4_project[0][0]            \n",
            "__________________________________________________________________________________________________\n",
            "block_4_add (Add)               (None, 12, 12, 32)   0           block_3_project_BN[0][0]         \n",
            "                                                                 block_4_project_BN[0][0]         \n",
            "__________________________________________________________________________________________________\n",
            "block_5_expand (Conv2D)         (None, 12, 12, 192)  6144        block_4_add[0][0]                \n",
            "__________________________________________________________________________________________________\n",
            "block_5_expand_BN (BatchNormali (None, 12, 12, 192)  768         block_5_expand[0][0]             \n",
            "__________________________________________________________________________________________________\n",
            "block_5_expand_relu (ReLU)      (None, 12, 12, 192)  0           block_5_expand_BN[0][0]          \n",
            "__________________________________________________________________________________________________\n",
            "block_5_depthwise (DepthwiseCon (None, 12, 12, 192)  1728        block_5_expand_relu[0][0]        \n",
            "__________________________________________________________________________________________________\n",
            "block_5_depthwise_BN (BatchNorm (None, 12, 12, 192)  768         block_5_depthwise[0][0]          \n",
            "__________________________________________________________________________________________________\n",
            "block_5_depthwise_relu (ReLU)   (None, 12, 12, 192)  0           block_5_depthwise_BN[0][0]       \n",
            "__________________________________________________________________________________________________\n",
            "block_5_project (Conv2D)        (None, 12, 12, 32)   6144        block_5_depthwise_relu[0][0]     \n",
            "__________________________________________________________________________________________________\n",
            "block_5_project_BN (BatchNormal (None, 12, 12, 32)   128         block_5_project[0][0]            \n",
            "__________________________________________________________________________________________________\n",
            "block_5_add (Add)               (None, 12, 12, 32)   0           block_4_add[0][0]                \n",
            "                                                                 block_5_project_BN[0][0]         \n",
            "__________________________________________________________________________________________________\n",
            "block_6_expand (Conv2D)         (None, 12, 12, 192)  6144        block_5_add[0][0]                \n",
            "__________________________________________________________________________________________________\n",
            "block_6_expand_BN (BatchNormali (None, 12, 12, 192)  768         block_6_expand[0][0]             \n",
            "__________________________________________________________________________________________________\n",
            "block_6_expand_relu (ReLU)      (None, 12, 12, 192)  0           block_6_expand_BN[0][0]          \n",
            "__________________________________________________________________________________________________\n",
            "block_6_pad (ZeroPadding2D)     (None, 13, 13, 192)  0           block_6_expand_relu[0][0]        \n",
            "__________________________________________________________________________________________________\n",
            "block_6_depthwise (DepthwiseCon (None, 6, 6, 192)    1728        block_6_pad[0][0]                \n",
            "__________________________________________________________________________________________________\n",
            "block_6_depthwise_BN (BatchNorm (None, 6, 6, 192)    768         block_6_depthwise[0][0]          \n",
            "__________________________________________________________________________________________________\n",
            "block_6_depthwise_relu (ReLU)   (None, 6, 6, 192)    0           block_6_depthwise_BN[0][0]       \n",
            "__________________________________________________________________________________________________\n",
            "block_6_project (Conv2D)        (None, 6, 6, 64)     12288       block_6_depthwise_relu[0][0]     \n",
            "__________________________________________________________________________________________________\n",
            "block_6_project_BN (BatchNormal (None, 6, 6, 64)     256         block_6_project[0][0]            \n",
            "__________________________________________________________________________________________________\n",
            "block_7_expand (Conv2D)         (None, 6, 6, 384)    24576       block_6_project_BN[0][0]         \n",
            "__________________________________________________________________________________________________\n",
            "block_7_expand_BN (BatchNormali (None, 6, 6, 384)    1536        block_7_expand[0][0]             \n",
            "__________________________________________________________________________________________________\n",
            "block_7_expand_relu (ReLU)      (None, 6, 6, 384)    0           block_7_expand_BN[0][0]          \n",
            "__________________________________________________________________________________________________\n",
            "block_7_depthwise (DepthwiseCon (None, 6, 6, 384)    3456        block_7_expand_relu[0][0]        \n",
            "__________________________________________________________________________________________________\n",
            "block_7_depthwise_BN (BatchNorm (None, 6, 6, 384)    1536        block_7_depthwise[0][0]          \n",
            "__________________________________________________________________________________________________\n",
            "block_7_depthwise_relu (ReLU)   (None, 6, 6, 384)    0           block_7_depthwise_BN[0][0]       \n",
            "__________________________________________________________________________________________________\n",
            "block_7_project (Conv2D)        (None, 6, 6, 64)     24576       block_7_depthwise_relu[0][0]     \n",
            "__________________________________________________________________________________________________\n",
            "block_7_project_BN (BatchNormal (None, 6, 6, 64)     256         block_7_project[0][0]            \n",
            "__________________________________________________________________________________________________\n",
            "block_7_add (Add)               (None, 6, 6, 64)     0           block_6_project_BN[0][0]         \n",
            "                                                                 block_7_project_BN[0][0]         \n",
            "__________________________________________________________________________________________________\n",
            "block_8_expand (Conv2D)         (None, 6, 6, 384)    24576       block_7_add[0][0]                \n",
            "__________________________________________________________________________________________________\n",
            "block_8_expand_BN (BatchNormali (None, 6, 6, 384)    1536        block_8_expand[0][0]             \n",
            "__________________________________________________________________________________________________\n",
            "block_8_expand_relu (ReLU)      (None, 6, 6, 384)    0           block_8_expand_BN[0][0]          \n",
            "__________________________________________________________________________________________________\n",
            "block_8_depthwise (DepthwiseCon (None, 6, 6, 384)    3456        block_8_expand_relu[0][0]        \n",
            "__________________________________________________________________________________________________\n",
            "block_8_depthwise_BN (BatchNorm (None, 6, 6, 384)    1536        block_8_depthwise[0][0]          \n",
            "__________________________________________________________________________________________________\n",
            "block_8_depthwise_relu (ReLU)   (None, 6, 6, 384)    0           block_8_depthwise_BN[0][0]       \n",
            "__________________________________________________________________________________________________\n",
            "block_8_project (Conv2D)        (None, 6, 6, 64)     24576       block_8_depthwise_relu[0][0]     \n",
            "__________________________________________________________________________________________________\n",
            "block_8_project_BN (BatchNormal (None, 6, 6, 64)     256         block_8_project[0][0]            \n",
            "__________________________________________________________________________________________________\n",
            "block_8_add (Add)               (None, 6, 6, 64)     0           block_7_add[0][0]                \n",
            "                                                                 block_8_project_BN[0][0]         \n",
            "__________________________________________________________________________________________________\n",
            "block_9_expand (Conv2D)         (None, 6, 6, 384)    24576       block_8_add[0][0]                \n",
            "__________________________________________________________________________________________________\n",
            "block_9_expand_BN (BatchNormali (None, 6, 6, 384)    1536        block_9_expand[0][0]             \n",
            "__________________________________________________________________________________________________\n",
            "block_9_expand_relu (ReLU)      (None, 6, 6, 384)    0           block_9_expand_BN[0][0]          \n",
            "__________________________________________________________________________________________________\n",
            "block_9_depthwise (DepthwiseCon (None, 6, 6, 384)    3456        block_9_expand_relu[0][0]        \n",
            "__________________________________________________________________________________________________\n",
            "block_9_depthwise_BN (BatchNorm (None, 6, 6, 384)    1536        block_9_depthwise[0][0]          \n",
            "__________________________________________________________________________________________________\n",
            "block_9_depthwise_relu (ReLU)   (None, 6, 6, 384)    0           block_9_depthwise_BN[0][0]       \n",
            "__________________________________________________________________________________________________\n",
            "block_9_project (Conv2D)        (None, 6, 6, 64)     24576       block_9_depthwise_relu[0][0]     \n",
            "__________________________________________________________________________________________________\n",
            "block_9_project_BN (BatchNormal (None, 6, 6, 64)     256         block_9_project[0][0]            \n",
            "__________________________________________________________________________________________________\n",
            "block_9_add (Add)               (None, 6, 6, 64)     0           block_8_add[0][0]                \n",
            "                                                                 block_9_project_BN[0][0]         \n",
            "__________________________________________________________________________________________________\n",
            "block_10_expand (Conv2D)        (None, 6, 6, 384)    24576       block_9_add[0][0]                \n",
            "__________________________________________________________________________________________________\n",
            "block_10_expand_BN (BatchNormal (None, 6, 6, 384)    1536        block_10_expand[0][0]            \n",
            "__________________________________________________________________________________________________\n",
            "block_10_expand_relu (ReLU)     (None, 6, 6, 384)    0           block_10_expand_BN[0][0]         \n",
            "__________________________________________________________________________________________________\n",
            "block_10_depthwise (DepthwiseCo (None, 6, 6, 384)    3456        block_10_expand_relu[0][0]       \n",
            "__________________________________________________________________________________________________\n",
            "block_10_depthwise_BN (BatchNor (None, 6, 6, 384)    1536        block_10_depthwise[0][0]         \n",
            "__________________________________________________________________________________________________\n",
            "block_10_depthwise_relu (ReLU)  (None, 6, 6, 384)    0           block_10_depthwise_BN[0][0]      \n",
            "__________________________________________________________________________________________________\n",
            "block_10_project (Conv2D)       (None, 6, 6, 96)     36864       block_10_depthwise_relu[0][0]    \n",
            "__________________________________________________________________________________________________\n",
            "block_10_project_BN (BatchNorma (None, 6, 6, 96)     384         block_10_project[0][0]           \n",
            "__________________________________________________________________________________________________\n",
            "block_11_expand (Conv2D)        (None, 6, 6, 576)    55296       block_10_project_BN[0][0]        \n",
            "__________________________________________________________________________________________________\n",
            "block_11_expand_BN (BatchNormal (None, 6, 6, 576)    2304        block_11_expand[0][0]            \n",
            "__________________________________________________________________________________________________\n",
            "block_11_expand_relu (ReLU)     (None, 6, 6, 576)    0           block_11_expand_BN[0][0]         \n",
            "__________________________________________________________________________________________________\n",
            "block_11_depthwise (DepthwiseCo (None, 6, 6, 576)    5184        block_11_expand_relu[0][0]       \n",
            "__________________________________________________________________________________________________\n",
            "block_11_depthwise_BN (BatchNor (None, 6, 6, 576)    2304        block_11_depthwise[0][0]         \n",
            "__________________________________________________________________________________________________\n",
            "block_11_depthwise_relu (ReLU)  (None, 6, 6, 576)    0           block_11_depthwise_BN[0][0]      \n",
            "__________________________________________________________________________________________________\n",
            "block_11_project (Conv2D)       (None, 6, 6, 96)     55296       block_11_depthwise_relu[0][0]    \n",
            "__________________________________________________________________________________________________\n",
            "block_11_project_BN (BatchNorma (None, 6, 6, 96)     384         block_11_project[0][0]           \n",
            "__________________________________________________________________________________________________\n",
            "block_11_add (Add)              (None, 6, 6, 96)     0           block_10_project_BN[0][0]        \n",
            "                                                                 block_11_project_BN[0][0]        \n",
            "__________________________________________________________________________________________________\n",
            "block_12_expand (Conv2D)        (None, 6, 6, 576)    55296       block_11_add[0][0]               \n",
            "__________________________________________________________________________________________________\n",
            "block_12_expand_BN (BatchNormal (None, 6, 6, 576)    2304        block_12_expand[0][0]            \n",
            "__________________________________________________________________________________________________\n",
            "block_12_expand_relu (ReLU)     (None, 6, 6, 576)    0           block_12_expand_BN[0][0]         \n",
            "__________________________________________________________________________________________________\n",
            "block_12_depthwise (DepthwiseCo (None, 6, 6, 576)    5184        block_12_expand_relu[0][0]       \n",
            "__________________________________________________________________________________________________\n",
            "block_12_depthwise_BN (BatchNor (None, 6, 6, 576)    2304        block_12_depthwise[0][0]         \n",
            "__________________________________________________________________________________________________\n",
            "block_12_depthwise_relu (ReLU)  (None, 6, 6, 576)    0           block_12_depthwise_BN[0][0]      \n",
            "__________________________________________________________________________________________________\n",
            "block_12_project (Conv2D)       (None, 6, 6, 96)     55296       block_12_depthwise_relu[0][0]    \n",
            "__________________________________________________________________________________________________\n",
            "block_12_project_BN (BatchNorma (None, 6, 6, 96)     384         block_12_project[0][0]           \n",
            "__________________________________________________________________________________________________\n",
            "block_12_add (Add)              (None, 6, 6, 96)     0           block_11_add[0][0]               \n",
            "                                                                 block_12_project_BN[0][0]        \n",
            "__________________________________________________________________________________________________\n",
            "block_13_expand (Conv2D)        (None, 6, 6, 576)    55296       block_12_add[0][0]               \n",
            "__________________________________________________________________________________________________\n",
            "block_13_expand_BN (BatchNormal (None, 6, 6, 576)    2304        block_13_expand[0][0]            \n",
            "__________________________________________________________________________________________________\n",
            "block_13_expand_relu (ReLU)     (None, 6, 6, 576)    0           block_13_expand_BN[0][0]         \n",
            "__________________________________________________________________________________________________\n",
            "block_13_pad (ZeroPadding2D)    (None, 7, 7, 576)    0           block_13_expand_relu[0][0]       \n",
            "__________________________________________________________________________________________________\n",
            "block_13_depthwise (DepthwiseCo (None, 3, 3, 576)    5184        block_13_pad[0][0]               \n",
            "__________________________________________________________________________________________________\n",
            "block_13_depthwise_BN (BatchNor (None, 3, 3, 576)    2304        block_13_depthwise[0][0]         \n",
            "__________________________________________________________________________________________________\n",
            "block_13_depthwise_relu (ReLU)  (None, 3, 3, 576)    0           block_13_depthwise_BN[0][0]      \n",
            "__________________________________________________________________________________________________\n",
            "block_13_project (Conv2D)       (None, 3, 3, 160)    92160       block_13_depthwise_relu[0][0]    \n",
            "__________________________________________________________________________________________________\n",
            "block_13_project_BN (BatchNorma (None, 3, 3, 160)    640         block_13_project[0][0]           \n",
            "__________________________________________________________________________________________________\n",
            "block_14_expand (Conv2D)        (None, 3, 3, 960)    153600      block_13_project_BN[0][0]        \n",
            "__________________________________________________________________________________________________\n",
            "block_14_expand_BN (BatchNormal (None, 3, 3, 960)    3840        block_14_expand[0][0]            \n",
            "__________________________________________________________________________________________________\n",
            "block_14_expand_relu (ReLU)     (None, 3, 3, 960)    0           block_14_expand_BN[0][0]         \n",
            "__________________________________________________________________________________________________\n",
            "block_14_depthwise (DepthwiseCo (None, 3, 3, 960)    8640        block_14_expand_relu[0][0]       \n",
            "__________________________________________________________________________________________________\n",
            "block_14_depthwise_BN (BatchNor (None, 3, 3, 960)    3840        block_14_depthwise[0][0]         \n",
            "__________________________________________________________________________________________________\n",
            "block_14_depthwise_relu (ReLU)  (None, 3, 3, 960)    0           block_14_depthwise_BN[0][0]      \n",
            "__________________________________________________________________________________________________\n",
            "block_14_project (Conv2D)       (None, 3, 3, 160)    153600      block_14_depthwise_relu[0][0]    \n",
            "__________________________________________________________________________________________________\n",
            "block_14_project_BN (BatchNorma (None, 3, 3, 160)    640         block_14_project[0][0]           \n",
            "__________________________________________________________________________________________________\n",
            "block_14_add (Add)              (None, 3, 3, 160)    0           block_13_project_BN[0][0]        \n",
            "                                                                 block_14_project_BN[0][0]        \n",
            "__________________________________________________________________________________________________\n",
            "block_15_expand (Conv2D)        (None, 3, 3, 960)    153600      block_14_add[0][0]               \n",
            "__________________________________________________________________________________________________\n",
            "block_15_expand_BN (BatchNormal (None, 3, 3, 960)    3840        block_15_expand[0][0]            \n",
            "__________________________________________________________________________________________________\n",
            "block_15_expand_relu (ReLU)     (None, 3, 3, 960)    0           block_15_expand_BN[0][0]         \n",
            "__________________________________________________________________________________________________\n",
            "block_15_depthwise (DepthwiseCo (None, 3, 3, 960)    8640        block_15_expand_relu[0][0]       \n",
            "__________________________________________________________________________________________________\n",
            "block_15_depthwise_BN (BatchNor (None, 3, 3, 960)    3840        block_15_depthwise[0][0]         \n",
            "__________________________________________________________________________________________________\n",
            "block_15_depthwise_relu (ReLU)  (None, 3, 3, 960)    0           block_15_depthwise_BN[0][0]      \n",
            "__________________________________________________________________________________________________\n",
            "block_15_project (Conv2D)       (None, 3, 3, 160)    153600      block_15_depthwise_relu[0][0]    \n",
            "__________________________________________________________________________________________________\n",
            "block_15_project_BN (BatchNorma (None, 3, 3, 160)    640         block_15_project[0][0]           \n",
            "__________________________________________________________________________________________________\n",
            "block_15_add (Add)              (None, 3, 3, 160)    0           block_14_add[0][0]               \n",
            "                                                                 block_15_project_BN[0][0]        \n",
            "__________________________________________________________________________________________________\n",
            "block_16_expand (Conv2D)        (None, 3, 3, 960)    153600      block_15_add[0][0]               \n",
            "__________________________________________________________________________________________________\n",
            "block_16_expand_BN (BatchNormal (None, 3, 3, 960)    3840        block_16_expand[0][0]            \n",
            "__________________________________________________________________________________________________\n",
            "block_16_expand_relu (ReLU)     (None, 3, 3, 960)    0           block_16_expand_BN[0][0]         \n",
            "__________________________________________________________________________________________________\n",
            "block_16_depthwise (DepthwiseCo (None, 3, 3, 960)    8640        block_16_expand_relu[0][0]       \n",
            "__________________________________________________________________________________________________\n",
            "block_16_depthwise_BN (BatchNor (None, 3, 3, 960)    3840        block_16_depthwise[0][0]         \n",
            "__________________________________________________________________________________________________\n",
            "block_16_depthwise_relu (ReLU)  (None, 3, 3, 960)    0           block_16_depthwise_BN[0][0]      \n",
            "__________________________________________________________________________________________________\n",
            "block_16_project (Conv2D)       (None, 3, 3, 320)    307200      block_16_depthwise_relu[0][0]    \n",
            "__________________________________________________________________________________________________\n",
            "block_16_project_BN (BatchNorma (None, 3, 3, 320)    1280        block_16_project[0][0]           \n",
            "__________________________________________________________________________________________________\n",
            "Conv_1 (Conv2D)                 (None, 3, 3, 1280)   409600      block_16_project_BN[0][0]        \n",
            "__________________________________________________________________________________________________\n",
            "Conv_1_bn (BatchNormalization)  (None, 3, 3, 1280)   5120        Conv_1[0][0]                     \n",
            "__________________________________________________________________________________________________\n",
            "out_relu (ReLU)                 (None, 3, 3, 1280)   0           Conv_1_bn[0][0]                  \n",
            "==================================================================================================\n",
            "Total params: 2,257,984\n",
            "Trainable params: 0\n",
            "Non-trainable params: 2,257,984\n",
            "__________________________________________________________________________________________________\n"
          ],
          "name": "stdout"
        }
      ]
    },
    {
      "cell_type": "code",
      "metadata": {
        "id": "yfQq_WvRcpmV",
        "colab_type": "code",
        "colab": {
          "base_uri": "https://localhost:8080/",
          "height": 255
        },
        "outputId": "27e73bcc-66e5-4f57-bcae-036a09845371"
      },
      "source": [
        "#creo due nuovi layer da aggiungere in coda al modello base per fare classificazione\n",
        "global_average_layer = tf.keras.layers.GlobalAveragePooling2D()\n",
        "prediction_layer = tf.keras.layers.Dense(numeroClassi, activation=\"softmax\")\n",
        "\n",
        "model = tf.keras.Sequential([\n",
        "  base_model,\n",
        "  global_average_layer,\n",
        "  prediction_layer\n",
        "])\n",
        "model.summary()"
      ],
      "execution_count": null,
      "outputs": [
        {
          "output_type": "stream",
          "text": [
            "Model: \"sequential\"\n",
            "_________________________________________________________________\n",
            "Layer (type)                 Output Shape              Param #   \n",
            "=================================================================\n",
            "mobilenetv2_1.00_96 (Model)  (None, 3, 3, 1280)        2257984   \n",
            "_________________________________________________________________\n",
            "global_average_pooling2d (Gl (None, 1280)              0         \n",
            "_________________________________________________________________\n",
            "dense (Dense)                (None, 10)                12810     \n",
            "=================================================================\n",
            "Total params: 2,270,794\n",
            "Trainable params: 12,810\n",
            "Non-trainable params: 2,257,984\n",
            "_________________________________________________________________\n"
          ],
          "name": "stdout"
        }
      ]
    },
    {
      "cell_type": "code",
      "metadata": {
        "colab_type": "code",
        "id": "lssH-aRVGpNA",
        "scrolled": true,
        "colab": {
          "base_uri": "https://localhost:8080/",
          "height": 68
        },
        "outputId": "bcfbc4a5-677f-4b08-8ae9-8ced3b24e0a7"
      },
      "source": [
        "model.compile(optimizer=tf.keras.optimizers.RMSprop(lr=base_learning_rate),\n",
        "              loss=tf.keras.losses.CategoricalCrossentropy(from_logits=True),\n",
        "              metrics=['accuracy'])\n",
        "\n",
        "#loss e accuracy prima dell'addestramento\n",
        "loss_and_metrics = model.evaluate(X_test_resized, Y_test, verbose=2)\n",
        "\n",
        "print(\"Test Loss\", loss_and_metrics[0])\n",
        "print(\"Test Accuracy\", loss_and_metrics[1])"
      ],
      "execution_count": null,
      "outputs": [
        {
          "output_type": "stream",
          "text": [
            "23/23 - 0s - loss: 2.2856 - accuracy: 0.1657\n",
            "Test Loss 2.2856063842773438\n",
            "Test Accuracy 0.16572238504886627\n"
          ],
          "name": "stdout"
        }
      ]
    },
    {
      "cell_type": "code",
      "metadata": {
        "id": "gxTJaRDVcpmf",
        "colab_type": "code",
        "colab": {
          "base_uri": "https://localhost:8080/",
          "height": 68
        },
        "outputId": "5cf04e87-7a8c-4488-cfc7-f9a46591e33e"
      },
      "source": [
        "#loss e accuracy dopo dell'addestramento\n",
        "modello_cartelli = load_model(pathDrive+\"results/\"+pathSalvaModello)\n",
        "\n",
        "loss_and_metrics = modello_cartelli.evaluate(X_test_resized, Y_test, verbose=2)\n",
        "\n",
        "print(\"Test Loss\", loss_and_metrics[0])\n",
        "print(\"Test Accuracy\", loss_and_metrics[1])"
      ],
      "execution_count": null,
      "outputs": [
        {
          "output_type": "stream",
          "text": [
            "23/23 - 0s - loss: 2.3438 - accuracy: 0.1048\n",
            "Test Loss 2.3437907695770264\n",
            "Test Accuracy 0.10481586307287216\n"
          ],
          "name": "stdout"
        }
      ]
    },
    {
      "cell_type": "code",
      "metadata": {
        "colab_type": "code",
        "id": "xWN6BQr7UwPm",
        "colab": {
          "base_uri": "https://localhost:8080/",
          "height": 1000
        },
        "outputId": "fc34cc45-5a8f-447c-e78b-54ae45bd886b"
      },
      "source": [
        "# Creazione delle predizioni sul test set sulla base del modello caricato\n",
        "predicted_classes = modello_cartelli.predict_classes(X_test_resized)\n",
        "\n",
        "# Distinguo cosa è stato predetto bene e cosa no\n",
        "correct_indices = np.nonzero(predicted_classes == y_test)[0]\n",
        "incorrect_indices = np.nonzero(predicted_classes != y_test)[0]\n",
        "print()\n",
        "print(len(correct_indices),\" classified correctly\")\n",
        "print(len(incorrect_indices),\" classified incorrectly\")\n",
        "\n",
        "# adapt figure size to accomodate 18 subplots\n",
        "plt.rcParams['figure.figsize'] = (7,14)\n",
        "figure_evaluation = plt.figure()\n",
        "\n",
        "print(\"\\n------------------------------------------------\\n\")\n",
        "print(\"Le prossime predizioni sono giuste\")\n",
        "print(\"\\n------------------------------------------------\\n\")\n",
        "\n",
        "listaClassiCheVerrannoStampate = []\n",
        "# Stampa delle 9 predizioni corrette\n",
        "for i, correct in enumerate(correct_indices[:9]):\n",
        "    #Creo la lista di classi e valori che verranno stampate\n",
        "    valoreDigits=predicted_classes[correct]\n",
        "    nomeDigits=listaNomiClassi[valoreDigits]\n",
        "    if [valoreDigits, nomeDigits] not in listaClassiCheVerrannoStampate :\n",
        "        listaClassiCheVerrannoStampate+=[[valoreDigits, nomeDigits]]\n",
        "\n",
        "    #Stampa classica delle digits\n",
        "    plt.subplot(6,3,i+1)\n",
        "    plt.imshow(immaginiPerLaStampaFinale[correct], interpolation='none')\n",
        "    plt.title(\n",
        "      \"Predicted: {}, Truth: {}\".format(predicted_classes[correct],\n",
        "                                        y_test[correct]))\n",
        "    plt.xticks([])\n",
        "    plt.yticks([])\n",
        "    \n",
        "#Prima stampo le classi presenti, con la corrispondente digits in ordine di digits\n",
        "for i in range(numeroClassi):\n",
        "    for j in range(len(listaClassiCheVerrannoStampate)):\n",
        "        if listaClassiCheVerrannoStampate[j][0]==i:\n",
        "            print(\"Digit: '{}' corrisponde a '{}'\".format(listaClassiCheVerrannoStampate[j][0], \n",
        "                                                          listaClassiCheVerrannoStampate[j][1]))\n",
        "            \n",
        "#Stampo i cartelli\n",
        "plt.show()\n",
        "\n",
        "print(\"\\n------------------------------------------------\\n\")\n",
        "print(\"Le prossime predizioni sono sbagliate\")\n",
        "print(\"\\n------------------------------------------------\\n\")\n",
        "\n",
        "listaClassiCheVerrannoStampate = []\n",
        "# Stampa delle 9 predizioni incorrette\n",
        "for i, incorrect in enumerate(incorrect_indices[:9]):\n",
        "    #Creo la lista di classi e valori che verranno stampate\n",
        "    valoreDigits=predicted_classes[incorrect]\n",
        "    nomeDigits=listaNomiClassi[valoreDigits]\n",
        "    if [valoreDigits, nomeDigits] not in listaClassiCheVerrannoStampate :\n",
        "        listaClassiCheVerrannoStampate+=[[valoreDigits, nomeDigits]]\n",
        "    valoreDigits=y_test[incorrect]\n",
        "    nomeDigits=listaNomiClassi[valoreDigits]\n",
        "    if [valoreDigits, nomeDigits] not in listaClassiCheVerrannoStampate :\n",
        "        listaClassiCheVerrannoStampate+=[[valoreDigits, nomeDigits]]\n",
        "\n",
        "    plt.subplot(6,3,i+10)\n",
        "    plt.imshow(immaginiPerLaStampaFinale[incorrect], interpolation='none')\n",
        "    plt.title(\n",
        "      \"Predicted {}, Truth: {}\".format(predicted_classes[incorrect], \n",
        "                                       y_test[incorrect]))\n",
        "    plt.xticks([])\n",
        "    plt.yticks([])\n",
        "    \n",
        "#Prima stampo le classi presenti, con la corrispondente digits in ordine di digits\n",
        "for i in range(numeroClassi):\n",
        "    for j in range(len(listaClassiCheVerrannoStampate)):\n",
        "        if listaClassiCheVerrannoStampate[j][0]==i:\n",
        "            print(\"Digit: '{}' corrisponde a '{}'\".format(listaClassiCheVerrannoStampate[j][0], \n",
        "                                                          listaClassiCheVerrannoStampate[j][1]))\n",
        "            \n",
        "#Stampo i cartelli\n",
        "plt.show()"
      ],
      "execution_count": null,
      "outputs": [
        {
          "output_type": "stream",
          "text": [
            "\n",
            "551  classified correctly\n",
            "155  classified incorrectly\n",
            "\n",
            "------------------------------------------------\n",
            "\n",
            "Le prossime predizioni sono giuste\n",
            "\n",
            "------------------------------------------------\n",
            "\n",
            "Digit: '1' corrisponde a 'Dangerous curve to the right'\n",
            "Digit: '2' corrisponde a 'Road narrows on the right'\n",
            "Digit: '4' corrisponde a 'Bicycles crossing'\n",
            "Digit: '5' corrisponde a 'End of all speed and passing limits'\n",
            "Digit: '6' corrisponde a 'Go straight or left'\n"
          ],
          "name": "stdout"
        },
        {
          "output_type": "display_data",
          "data": {
            "image/png": "[encoded data removed]",
            "text/plain": [
              "<Figure size 504x1008 with 9 Axes>"
            ]
          },
          "metadata": {
            "tags": []
          }
        },
        {
          "output_type": "stream",
          "text": [
            "\n",
            "------------------------------------------------\n",
            "\n",
            "Le prossime predizioni sono sbagliate\n",
            "\n",
            "------------------------------------------------\n",
            "\n",
            "Digit: '1' corrisponde a 'Dangerous curve to the right'\n",
            "Digit: '2' corrisponde a 'Road narrows on the right'\n",
            "Digit: '3' corrisponde a 'Pedestrians'\n",
            "Digit: '4' corrisponde a 'Bicycles crossing'\n",
            "Digit: '6' corrisponde a 'Go straight or left'\n",
            "Digit: '7' corrisponde a 'Roundabout mandatory'\n",
            "Digit: '8' corrisponde a 'End of no passing'\n",
            "Digit: '9' corrisponde a 'End of no passing by vehicles over 3.5 metric tons'\n"
          ],
          "name": "stdout"
        },
        {
          "output_type": "display_data",
          "data": {
            "image/png": "[encoded data removed]",
            "text/plain": [
              "<Figure size 504x1008 with 9 Axes>"
            ]
          },
          "metadata": {
            "tags": []
          }
        }
      ]
    },
    {
      "cell_type": "code",
      "metadata": {
        "id": "_lwXzWSUcpmk",
        "colab_type": "code",
        "colab": {
          "base_uri": "https://localhost:8080/",
          "height": 187
        },
        "outputId": "b313b3a0-86a1-40e4-c0fa-c7b38dc8c036"
      },
      "source": [
        "confusion_matrix = tf.math.confusion_matrix(y_test, predicted_classes, num_classes=numeroClassi)\n",
        "tf.print(confusion_matrix, summarize=-1)"
      ],
      "execution_count": null,
      "outputs": [
        {
          "output_type": "stream",
          "text": [
            "[[44 0 0 0 0 0 0 1 0 0]\n",
            " [0 76 5 3 5 0 0 1 0 0]\n",
            " [0 10 63 0 0 0 0 2 0 0]\n",
            " [0 7 11 41 6 0 0 0 0 0]\n",
            " [0 2 1 4 65 0 0 0 0 0]\n",
            " [0 0 0 0 0 64 0 0 1 0]\n",
            " [0 0 0 0 0 0 61 3 0 0]\n",
            " [0 10 1 0 0 12 4 67 3 0]\n",
            " [1 2 1 0 0 1 0 2 60 0]\n",
            " [0 13 0 0 0 5 1 5 32 10]]\n"
          ],
          "name": "stdout"
        }
      ]
    },
    {
      "cell_type": "code",
      "metadata": {
        "id": "2GAr94Q9PhrB",
        "colab_type": "code",
        "colab": {
          "base_uri": "https://localhost:8080/",
          "height": 34
        },
        "outputId": "8c612a86-b2d6-4a9a-c82d-380b51d68a2b"
      },
      "source": [
        "# ricerca dell'elemento con più errori (se può servire)\n",
        "row = 0\n",
        "col = 0\n",
        "item = 0\n",
        "for r in range(len(confusion_matrix)):\n",
        "    for c in range(len(confusion_matrix[r])):\n",
        "        if (r != c and confusion_matrix[r][c] > item):\n",
        "            item = confusion_matrix[r][c]\n",
        "            row = r\n",
        "            col = c\n",
        "print(\"elemento con più errori è in posizione [\", row, \"][\", col, \"] con numero errori pari a:\",item.numpy())"
      ],
      "execution_count": null,
      "outputs": [
        {
          "output_type": "stream",
          "text": [
            "elemento con più errori è in posizione [ 9 ][ 8 ] con numero errori pari a: 32\n"
          ],
          "name": "stdout"
        }
      ]
    },
    {
      "cell_type": "code",
      "metadata": {
        "id": "JBWU-j48Ppue",
        "colab_type": "code",
        "colab": {
          "base_uri": "https://localhost:8080/",
          "height": 833
        },
        "outputId": "b7ea7a5e-557b-47a8-efad-5d88ac7793fe"
      },
      "source": [
        "def plot_confusion_matrix(matrix):\n",
        "    fig = plt.figure(figsize=(8,8))\n",
        "    ax = fig.add_subplot(111)\n",
        "    cax = ax.matshow(matrix)\n",
        "    fig.colorbar(cax)\n",
        "    \n",
        "plt.matshow(confusion_matrix.numpy(), cmap=plt.cm.gray)\n",
        "plt.savefig(pathConfMatrix)\n",
        "plt.show()"
      ],
      "execution_count": null,
      "outputs": [
        {
          "output_type": "display_data",
          "data": {
            "image/png": "[encoded data removed]",
            "text/plain": [
              "<Figure size 1008x1008 with 1 Axes>"
            ]
          },
          "metadata": {
            "tags": [],
            "needs_background": "light"
          }
        }
      ]
    },
    {
      "cell_type": "code",
      "metadata": {
        "id": "9X30msL-usXf",
        "colab_type": "code",
        "colab": {
          "base_uri": "https://localhost:8080/",
          "height": 71
        },
        "outputId": "ad22e410-5a96-4042-824b-7a39fc9d79eb"
      },
      "source": [
        "print(\"Nome Addestramento:\")\n",
        "print(creoNomeAddestramento)"
      ],
      "execution_count": null,
      "outputs": [
        {
          "output_type": "stream",
          "text": [
            "Nome Addestramento:\n",
            "MobileNetCNN-10RandomClasses-10Epoche-EarlyStoppingSI-TrainAgNO-TestAgNO-baseLearningRate0.0001-AddestramentoBaseModelSI\n"
          ],
          "name": "stdout"
        }
      ]
    }
  ]
}